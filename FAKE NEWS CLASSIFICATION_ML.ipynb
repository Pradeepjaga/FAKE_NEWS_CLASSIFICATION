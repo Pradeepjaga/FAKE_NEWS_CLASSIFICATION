{
 "cells": [
  {
   "cell_type": "markdown",
   "id": "4b6d0ac8",
   "metadata": {},
   "source": [
    "## Fake news classification\n",
    "\n",
    "\n",
    "Fake news on different platforms is spreading widely and is a matter of serious concern, as it causes social wars and permanent breakage of the bonds established among people. A lot of research is already going on focused on the classification of fake news.\n",
    "\n",
    "Here we will try to solve this issue with the help of machine learning in Python.\n",
    "\n",
    "        "
   ]
  },
  {
   "cell_type": "markdown",
   "id": "3611bbea",
   "metadata": {},
   "source": [
    "# Data description\n",
    "    > id: An identifier for each sample.\n",
    "    > title: The title of the news article.\n",
    "    > author: The author or source of the news article.\n",
    "    > text: The main content or body of the news article.\n",
    "    > label: The label indicating whether the news article is fake or not \n",
    "        (e.g., binary label, where 0 represents genuine news and 1 represents fake news)."
   ]
  },
  {
   "cell_type": "markdown",
   "id": "b5332239",
   "metadata": {},
   "source": [
    "## Steps\n",
    "\n",
    "     1)Importing libraries\n",
    "     2)Read Data\n",
    "     3)Data Preprocessing\n",
    "     4)Featuring Engineering\n",
    "     5)Model Training"
   ]
  },
  {
   "cell_type": "code",
   "execution_count": 1,
   "id": "a9101a20",
   "metadata": {},
   "outputs": [],
   "source": [
    "# import the needed libraries\n",
    "\n",
    "import pandas as pd\n",
    "import matplotlib.pyplot as plt\n",
    "import seaborn as sns\n",
    "import numpy as np\n",
    "import joblib as jb\n",
    "\n",
    "from sklearn.preprocessing import OrdinalEncoder\n",
    "from sklearn.impute import KNNImputer\n",
    "from sklearn.model_selection import train_test_split\n",
    "import xgboost as xgb\n",
    "from math import sqrt\n",
    "from sklearn.metrics import classification_report,confusion_matrix,ConfusionMatrixDisplay\n",
    "\n",
    "import warnings\n",
    "warnings.filterwarnings('ignore')"
   ]
  },
  {
   "cell_type": "markdown",
   "id": "2c5115e9",
   "metadata": {},
   "source": [
    "\n",
    "## Read Data\n",
    "\n",
    "reading the data into pandas dataframe"
   ]
  },
  {
   "cell_type": "code",
   "execution_count": 2,
   "id": "2d58e915",
   "metadata": {},
   "outputs": [],
   "source": [
    "df=pd.read_csv('G:/ds project/files/train/raw/train.csv')"
   ]
  },
  {
   "cell_type": "code",
   "execution_count": 3,
   "id": "80e7fce1",
   "metadata": {},
   "outputs": [
    {
     "data": {
      "text/html": [
       "<div>\n",
       "<style scoped>\n",
       "    .dataframe tbody tr th:only-of-type {\n",
       "        vertical-align: middle;\n",
       "    }\n",
       "\n",
       "    .dataframe tbody tr th {\n",
       "        vertical-align: top;\n",
       "    }\n",
       "\n",
       "    .dataframe thead th {\n",
       "        text-align: right;\n",
       "    }\n",
       "</style>\n",
       "<table border=\"1\" class=\"dataframe\">\n",
       "  <thead>\n",
       "    <tr style=\"text-align: right;\">\n",
       "      <th></th>\n",
       "      <th>id</th>\n",
       "      <th>title</th>\n",
       "      <th>author</th>\n",
       "      <th>text</th>\n",
       "      <th>label</th>\n",
       "    </tr>\n",
       "  </thead>\n",
       "  <tbody>\n",
       "    <tr>\n",
       "      <th>0</th>\n",
       "      <td>3777</td>\n",
       "      <td>Four-Day Obama Trip in 2013 Cost US Taxpayers ...</td>\n",
       "      <td>NaN</td>\n",
       "      <td>Get short URL 0 4 0 0 President Barack Obama’s...</td>\n",
       "      <td>1</td>\n",
       "    </tr>\n",
       "    <tr>\n",
       "      <th>1</th>\n",
       "      <td>15265</td>\n",
       "      <td>A Hillary Clinton indictment is coming</td>\n",
       "      <td>Michael Snyder</td>\n",
       "      <td>VIDEOS A Hillary Clinton indictment is coming ...</td>\n",
       "      <td>1</td>\n",
       "    </tr>\n",
       "    <tr>\n",
       "      <th>2</th>\n",
       "      <td>16615</td>\n",
       "      <td>Snake in a suit: International prosecutor char...</td>\n",
       "      <td>NaN</td>\n",
       "      <td>Radio Free Europe Tue, 25 Oct 2016 20:50 UTC A...</td>\n",
       "      <td>1</td>\n",
       "    </tr>\n",
       "    <tr>\n",
       "      <th>3</th>\n",
       "      <td>5111</td>\n",
       "      <td>Inviting the Easter Bunny to the Seder - The N...</td>\n",
       "      <td>Yotam Ottolenghi</td>\n",
       "      <td>I went on my first Easter egg hunt a couple of...</td>\n",
       "      <td>0</td>\n",
       "    </tr>\n",
       "    <tr>\n",
       "      <th>4</th>\n",
       "      <td>495</td>\n",
       "      <td>Contaminated Food from China Now Entering the ...</td>\n",
       "      <td>noreply@blogger.com (Alexander Light)</td>\n",
       "      <td>Contaminated Food from China Now Entering the ...</td>\n",
       "      <td>1</td>\n",
       "    </tr>\n",
       "    <tr>\n",
       "      <th>...</th>\n",
       "      <td>...</td>\n",
       "      <td>...</td>\n",
       "      <td>...</td>\n",
       "      <td>...</td>\n",
       "      <td>...</td>\n",
       "    </tr>\n",
       "    <tr>\n",
       "      <th>14554</th>\n",
       "      <td>7763</td>\n",
       "      <td>Four Movies You Should Know About Before the G...</td>\n",
       "      <td>Wesley Morris and Jenna Wortham</td>\n",
       "      <td>Last month, about 50 new movies opened in New ...</td>\n",
       "      <td>0</td>\n",
       "    </tr>\n",
       "    <tr>\n",
       "      <th>14555</th>\n",
       "      <td>15377</td>\n",
       "      <td>Terrorists attack police training college in P...</td>\n",
       "      <td>NaN</td>\n",
       "      <td>(7 fans) - Advertisement - At lease 60 cadets ...</td>\n",
       "      <td>1</td>\n",
       "    </tr>\n",
       "    <tr>\n",
       "      <th>14556</th>\n",
       "      <td>17730</td>\n",
       "      <td>Presidential Debate: Here’s What You Missed - ...</td>\n",
       "      <td>Alex Burns and Matt Flegenheimer</td>\n",
       "      <td>We analyzed in real time the second presidenti...</td>\n",
       "      <td>0</td>\n",
       "    </tr>\n",
       "    <tr>\n",
       "      <th>14557</th>\n",
       "      <td>15725</td>\n",
       "      <td>The Tragically Hip’s Gord Downie: A True Canad...</td>\n",
       "      <td>Alanna Ketler</td>\n",
       "      <td>For those of you who have no clue who Gord Dow...</td>\n",
       "      <td>1</td>\n",
       "    </tr>\n",
       "    <tr>\n",
       "      <th>14558</th>\n",
       "      <td>19966</td>\n",
       "      <td>The Other October Surprise—An Eruption In The ...</td>\n",
       "      <td>David Stockman</td>\n",
       "      <td>The Other October Surprise---An Eruption In Th...</td>\n",
       "      <td>1</td>\n",
       "    </tr>\n",
       "  </tbody>\n",
       "</table>\n",
       "<p>14559 rows × 5 columns</p>\n",
       "</div>"
      ],
      "text/plain": [
       "          id                                              title  \\\n",
       "0       3777  Four-Day Obama Trip in 2013 Cost US Taxpayers ...   \n",
       "1      15265             A Hillary Clinton indictment is coming   \n",
       "2      16615  Snake in a suit: International prosecutor char...   \n",
       "3       5111  Inviting the Easter Bunny to the Seder - The N...   \n",
       "4        495  Contaminated Food from China Now Entering the ...   \n",
       "...      ...                                                ...   \n",
       "14554   7763  Four Movies You Should Know About Before the G...   \n",
       "14555  15377  Terrorists attack police training college in P...   \n",
       "14556  17730  Presidential Debate: Here’s What You Missed - ...   \n",
       "14557  15725  The Tragically Hip’s Gord Downie: A True Canad...   \n",
       "14558  19966  The Other October Surprise—An Eruption In The ...   \n",
       "\n",
       "                                      author  \\\n",
       "0                                        NaN   \n",
       "1                             Michael Snyder   \n",
       "2                                        NaN   \n",
       "3                           Yotam Ottolenghi   \n",
       "4      noreply@blogger.com (Alexander Light)   \n",
       "...                                      ...   \n",
       "14554        Wesley Morris and Jenna Wortham   \n",
       "14555                                    NaN   \n",
       "14556       Alex Burns and Matt Flegenheimer   \n",
       "14557                          Alanna Ketler   \n",
       "14558                         David Stockman   \n",
       "\n",
       "                                                    text  label  \n",
       "0      Get short URL 0 4 0 0 President Barack Obama’s...      1  \n",
       "1      VIDEOS A Hillary Clinton indictment is coming ...      1  \n",
       "2      Radio Free Europe Tue, 25 Oct 2016 20:50 UTC A...      1  \n",
       "3      I went on my first Easter egg hunt a couple of...      0  \n",
       "4      Contaminated Food from China Now Entering the ...      1  \n",
       "...                                                  ...    ...  \n",
       "14554  Last month, about 50 new movies opened in New ...      0  \n",
       "14555  (7 fans) - Advertisement - At lease 60 cadets ...      1  \n",
       "14556  We analyzed in real time the second presidenti...      0  \n",
       "14557  For those of you who have no clue who Gord Dow...      1  \n",
       "14558  The Other October Surprise---An Eruption In Th...      1  \n",
       "\n",
       "[14559 rows x 5 columns]"
      ]
     },
     "execution_count": 3,
     "metadata": {},
     "output_type": "execute_result"
    }
   ],
   "source": [
    "df"
   ]
  },
  {
   "cell_type": "markdown",
   "id": "b5016e8b",
   "metadata": {},
   "source": [
    "## Data Preprocessing"
   ]
  },
  {
   "cell_type": "code",
   "execution_count": 4,
   "id": "9e5af566",
   "metadata": {},
   "outputs": [
    {
     "name": "stdout",
     "output_type": "stream",
     "text": [
      "<class 'pandas.core.frame.DataFrame'>\n",
      "RangeIndex: 14559 entries, 0 to 14558\n",
      "Data columns (total 5 columns):\n",
      " #   Column  Non-Null Count  Dtype \n",
      "---  ------  --------------  ----- \n",
      " 0   id      14559 non-null  int64 \n",
      " 1   title   14162 non-null  object\n",
      " 2   author  13184 non-null  object\n",
      " 3   text    14530 non-null  object\n",
      " 4   label   14559 non-null  int64 \n",
      "dtypes: int64(2), object(3)\n",
      "memory usage: 568.8+ KB\n"
     ]
    }
   ],
   "source": [
    "#To see the information of the dataset\n",
    "df.info()"
   ]
  },
  {
   "cell_type": "code",
   "execution_count": 5,
   "id": "21b53d45",
   "metadata": {},
   "outputs": [
    {
     "data": {
      "text/html": [
       "<div>\n",
       "<style scoped>\n",
       "    .dataframe tbody tr th:only-of-type {\n",
       "        vertical-align: middle;\n",
       "    }\n",
       "\n",
       "    .dataframe tbody tr th {\n",
       "        vertical-align: top;\n",
       "    }\n",
       "\n",
       "    .dataframe thead th {\n",
       "        text-align: right;\n",
       "    }\n",
       "</style>\n",
       "<table border=\"1\" class=\"dataframe\">\n",
       "  <thead>\n",
       "    <tr style=\"text-align: right;\">\n",
       "      <th></th>\n",
       "      <th>id</th>\n",
       "      <th>title</th>\n",
       "      <th>author</th>\n",
       "      <th>text</th>\n",
       "      <th>label</th>\n",
       "    </tr>\n",
       "  </thead>\n",
       "  <tbody>\n",
       "    <tr>\n",
       "      <th>count</th>\n",
       "      <td>14559.000000</td>\n",
       "      <td>14162</td>\n",
       "      <td>13184</td>\n",
       "      <td>14530</td>\n",
       "      <td>14559.000000</td>\n",
       "    </tr>\n",
       "    <tr>\n",
       "      <th>unique</th>\n",
       "      <td>NaN</td>\n",
       "      <td>13919</td>\n",
       "      <td>3360</td>\n",
       "      <td>14282</td>\n",
       "      <td>NaN</td>\n",
       "    </tr>\n",
       "    <tr>\n",
       "      <th>top</th>\n",
       "      <td>NaN</td>\n",
       "      <td>Thomas Frank Explores Whether Hillary Clinton ...</td>\n",
       "      <td>Pam Key</td>\n",
       "      <td></td>\n",
       "      <td>NaN</td>\n",
       "    </tr>\n",
       "    <tr>\n",
       "      <th>freq</th>\n",
       "      <td>NaN</td>\n",
       "      <td>4</td>\n",
       "      <td>163</td>\n",
       "      <td>57</td>\n",
       "      <td>NaN</td>\n",
       "    </tr>\n",
       "    <tr>\n",
       "      <th>mean</th>\n",
       "      <td>10371.066282</td>\n",
       "      <td>NaN</td>\n",
       "      <td>NaN</td>\n",
       "      <td>NaN</td>\n",
       "      <td>0.503194</td>\n",
       "    </tr>\n",
       "    <tr>\n",
       "      <th>std</th>\n",
       "      <td>6009.437248</td>\n",
       "      <td>NaN</td>\n",
       "      <td>NaN</td>\n",
       "      <td>NaN</td>\n",
       "      <td>0.500007</td>\n",
       "    </tr>\n",
       "    <tr>\n",
       "      <th>min</th>\n",
       "      <td>0.000000</td>\n",
       "      <td>NaN</td>\n",
       "      <td>NaN</td>\n",
       "      <td>NaN</td>\n",
       "      <td>0.000000</td>\n",
       "    </tr>\n",
       "    <tr>\n",
       "      <th>25%</th>\n",
       "      <td>5151.500000</td>\n",
       "      <td>NaN</td>\n",
       "      <td>NaN</td>\n",
       "      <td>NaN</td>\n",
       "      <td>0.000000</td>\n",
       "    </tr>\n",
       "    <tr>\n",
       "      <th>50%</th>\n",
       "      <td>10351.000000</td>\n",
       "      <td>NaN</td>\n",
       "      <td>NaN</td>\n",
       "      <td>NaN</td>\n",
       "      <td>1.000000</td>\n",
       "    </tr>\n",
       "    <tr>\n",
       "      <th>75%</th>\n",
       "      <td>15572.500000</td>\n",
       "      <td>NaN</td>\n",
       "      <td>NaN</td>\n",
       "      <td>NaN</td>\n",
       "      <td>1.000000</td>\n",
       "    </tr>\n",
       "    <tr>\n",
       "      <th>max</th>\n",
       "      <td>20799.000000</td>\n",
       "      <td>NaN</td>\n",
       "      <td>NaN</td>\n",
       "      <td>NaN</td>\n",
       "      <td>1.000000</td>\n",
       "    </tr>\n",
       "  </tbody>\n",
       "</table>\n",
       "</div>"
      ],
      "text/plain": [
       "                  id                                              title  \\\n",
       "count   14559.000000                                              14162   \n",
       "unique           NaN                                              13919   \n",
       "top              NaN  Thomas Frank Explores Whether Hillary Clinton ...   \n",
       "freq             NaN                                                  4   \n",
       "mean    10371.066282                                                NaN   \n",
       "std      6009.437248                                                NaN   \n",
       "min         0.000000                                                NaN   \n",
       "25%      5151.500000                                                NaN   \n",
       "50%     10351.000000                                                NaN   \n",
       "75%     15572.500000                                                NaN   \n",
       "max     20799.000000                                                NaN   \n",
       "\n",
       "         author   text         label  \n",
       "count     13184  14530  14559.000000  \n",
       "unique     3360  14282           NaN  \n",
       "top     Pam Key                  NaN  \n",
       "freq        163     57           NaN  \n",
       "mean        NaN    NaN      0.503194  \n",
       "std         NaN    NaN      0.500007  \n",
       "min         NaN    NaN      0.000000  \n",
       "25%         NaN    NaN      0.000000  \n",
       "50%         NaN    NaN      1.000000  \n",
       "75%         NaN    NaN      1.000000  \n",
       "max         NaN    NaN      1.000000  "
      ]
     },
     "execution_count": 5,
     "metadata": {},
     "output_type": "execute_result"
    }
   ],
   "source": [
    "df.describe(include=\"all\")"
   ]
  },
  {
   "cell_type": "code",
   "execution_count": 6,
   "id": "eb78bfb6",
   "metadata": {},
   "outputs": [
    {
     "data": {
      "text/plain": [
       "(14559, 5)"
      ]
     },
     "execution_count": 6,
     "metadata": {},
     "output_type": "execute_result"
    }
   ],
   "source": [
    "# The shape of the dataset can be found by the below code.\n",
    "df.shape"
   ]
  },
  {
   "cell_type": "code",
   "execution_count": 7,
   "id": "1a73aa49",
   "metadata": {
    "scrolled": false
   },
   "outputs": [
    {
     "data": {
      "text/plain": [
       "id        14559\n",
       "title     13919\n",
       "author     3360\n",
       "text      14282\n",
       "label         2\n",
       "dtype: int64"
      ]
     },
     "execution_count": 7,
     "metadata": {},
     "output_type": "execute_result"
    }
   ],
   "source": [
    "#TO see nunique values in dataset\n",
    "df.nunique()"
   ]
  },
  {
   "cell_type": "code",
   "execution_count": 8,
   "id": "270d874e",
   "metadata": {},
   "outputs": [
    {
     "data": {
      "text/plain": [
       "id           0\n",
       "title      397\n",
       "author    1375\n",
       "text        29\n",
       "label        0\n",
       "dtype: int64"
      ]
     },
     "execution_count": 8,
     "metadata": {},
     "output_type": "execute_result"
    }
   ],
   "source": [
    "#we have to check if ther is any null value in dataset\n",
    "df.isnull().sum()"
   ]
  },
  {
   "cell_type": "markdown",
   "id": "04f53701",
   "metadata": {},
   "source": [
    "# Feature engineering "
   ]
  },
  {
   "cell_type": "code",
   "execution_count": 9,
   "id": "af3a40d6",
   "metadata": {},
   "outputs": [],
   "source": [
    "# Target and label\n",
    "\n",
    "x=df.drop('label',axis=1).copy()\n",
    "y=df['label'].copy()\n"
   ]
  },
  {
   "cell_type": "code",
   "execution_count": 10,
   "id": "af2eeb9b",
   "metadata": {},
   "outputs": [
    {
     "data": {
      "text/html": [
       "<div>\n",
       "<style scoped>\n",
       "    .dataframe tbody tr th:only-of-type {\n",
       "        vertical-align: middle;\n",
       "    }\n",
       "\n",
       "    .dataframe tbody tr th {\n",
       "        vertical-align: top;\n",
       "    }\n",
       "\n",
       "    .dataframe thead th {\n",
       "        text-align: right;\n",
       "    }\n",
       "</style>\n",
       "<table border=\"1\" class=\"dataframe\">\n",
       "  <thead>\n",
       "    <tr style=\"text-align: right;\">\n",
       "      <th></th>\n",
       "      <th>id</th>\n",
       "      <th>title</th>\n",
       "      <th>author</th>\n",
       "      <th>text</th>\n",
       "    </tr>\n",
       "  </thead>\n",
       "  <tbody>\n",
       "    <tr>\n",
       "      <th>0</th>\n",
       "      <td>3777</td>\n",
       "      <td>Four-Day Obama Trip in 2013 Cost US Taxpayers ...</td>\n",
       "      <td>NaN</td>\n",
       "      <td>Get short URL 0 4 0 0 President Barack Obama’s...</td>\n",
       "    </tr>\n",
       "    <tr>\n",
       "      <th>1</th>\n",
       "      <td>15265</td>\n",
       "      <td>A Hillary Clinton indictment is coming</td>\n",
       "      <td>Michael Snyder</td>\n",
       "      <td>VIDEOS A Hillary Clinton indictment is coming ...</td>\n",
       "    </tr>\n",
       "    <tr>\n",
       "      <th>2</th>\n",
       "      <td>16615</td>\n",
       "      <td>Snake in a suit: International prosecutor char...</td>\n",
       "      <td>NaN</td>\n",
       "      <td>Radio Free Europe Tue, 25 Oct 2016 20:50 UTC A...</td>\n",
       "    </tr>\n",
       "    <tr>\n",
       "      <th>3</th>\n",
       "      <td>5111</td>\n",
       "      <td>Inviting the Easter Bunny to the Seder - The N...</td>\n",
       "      <td>Yotam Ottolenghi</td>\n",
       "      <td>I went on my first Easter egg hunt a couple of...</td>\n",
       "    </tr>\n",
       "    <tr>\n",
       "      <th>4</th>\n",
       "      <td>495</td>\n",
       "      <td>Contaminated Food from China Now Entering the ...</td>\n",
       "      <td>noreply@blogger.com (Alexander Light)</td>\n",
       "      <td>Contaminated Food from China Now Entering the ...</td>\n",
       "    </tr>\n",
       "    <tr>\n",
       "      <th>...</th>\n",
       "      <td>...</td>\n",
       "      <td>...</td>\n",
       "      <td>...</td>\n",
       "      <td>...</td>\n",
       "    </tr>\n",
       "    <tr>\n",
       "      <th>14554</th>\n",
       "      <td>7763</td>\n",
       "      <td>Four Movies You Should Know About Before the G...</td>\n",
       "      <td>Wesley Morris and Jenna Wortham</td>\n",
       "      <td>Last month, about 50 new movies opened in New ...</td>\n",
       "    </tr>\n",
       "    <tr>\n",
       "      <th>14555</th>\n",
       "      <td>15377</td>\n",
       "      <td>Terrorists attack police training college in P...</td>\n",
       "      <td>NaN</td>\n",
       "      <td>(7 fans) - Advertisement - At lease 60 cadets ...</td>\n",
       "    </tr>\n",
       "    <tr>\n",
       "      <th>14556</th>\n",
       "      <td>17730</td>\n",
       "      <td>Presidential Debate: Here’s What You Missed - ...</td>\n",
       "      <td>Alex Burns and Matt Flegenheimer</td>\n",
       "      <td>We analyzed in real time the second presidenti...</td>\n",
       "    </tr>\n",
       "    <tr>\n",
       "      <th>14557</th>\n",
       "      <td>15725</td>\n",
       "      <td>The Tragically Hip’s Gord Downie: A True Canad...</td>\n",
       "      <td>Alanna Ketler</td>\n",
       "      <td>For those of you who have no clue who Gord Dow...</td>\n",
       "    </tr>\n",
       "    <tr>\n",
       "      <th>14558</th>\n",
       "      <td>19966</td>\n",
       "      <td>The Other October Surprise—An Eruption In The ...</td>\n",
       "      <td>David Stockman</td>\n",
       "      <td>The Other October Surprise---An Eruption In Th...</td>\n",
       "    </tr>\n",
       "  </tbody>\n",
       "</table>\n",
       "<p>14559 rows × 4 columns</p>\n",
       "</div>"
      ],
      "text/plain": [
       "          id                                              title  \\\n",
       "0       3777  Four-Day Obama Trip in 2013 Cost US Taxpayers ...   \n",
       "1      15265             A Hillary Clinton indictment is coming   \n",
       "2      16615  Snake in a suit: International prosecutor char...   \n",
       "3       5111  Inviting the Easter Bunny to the Seder - The N...   \n",
       "4        495  Contaminated Food from China Now Entering the ...   \n",
       "...      ...                                                ...   \n",
       "14554   7763  Four Movies You Should Know About Before the G...   \n",
       "14555  15377  Terrorists attack police training college in P...   \n",
       "14556  17730  Presidential Debate: Here’s What You Missed - ...   \n",
       "14557  15725  The Tragically Hip’s Gord Downie: A True Canad...   \n",
       "14558  19966  The Other October Surprise—An Eruption In The ...   \n",
       "\n",
       "                                      author  \\\n",
       "0                                        NaN   \n",
       "1                             Michael Snyder   \n",
       "2                                        NaN   \n",
       "3                           Yotam Ottolenghi   \n",
       "4      noreply@blogger.com (Alexander Light)   \n",
       "...                                      ...   \n",
       "14554        Wesley Morris and Jenna Wortham   \n",
       "14555                                    NaN   \n",
       "14556       Alex Burns and Matt Flegenheimer   \n",
       "14557                          Alanna Ketler   \n",
       "14558                         David Stockman   \n",
       "\n",
       "                                                    text  \n",
       "0      Get short URL 0 4 0 0 President Barack Obama’s...  \n",
       "1      VIDEOS A Hillary Clinton indictment is coming ...  \n",
       "2      Radio Free Europe Tue, 25 Oct 2016 20:50 UTC A...  \n",
       "3      I went on my first Easter egg hunt a couple of...  \n",
       "4      Contaminated Food from China Now Entering the ...  \n",
       "...                                                  ...  \n",
       "14554  Last month, about 50 new movies opened in New ...  \n",
       "14555  (7 fans) - Advertisement - At lease 60 cadets ...  \n",
       "14556  We analyzed in real time the second presidenti...  \n",
       "14557  For those of you who have no clue who Gord Dow...  \n",
       "14558  The Other October Surprise---An Eruption In Th...  \n",
       "\n",
       "[14559 rows x 4 columns]"
      ]
     },
     "execution_count": 10,
     "metadata": {},
     "output_type": "execute_result"
    }
   ],
   "source": [
    "x"
   ]
  },
  {
   "cell_type": "code",
   "execution_count": 11,
   "id": "7f15e13a",
   "metadata": {},
   "outputs": [
    {
     "data": {
      "text/plain": [
       "0        1\n",
       "1        1\n",
       "2        1\n",
       "3        0\n",
       "4        1\n",
       "        ..\n",
       "14554    0\n",
       "14555    1\n",
       "14556    0\n",
       "14557    1\n",
       "14558    1\n",
       "Name: label, Length: 14559, dtype: int64"
      ]
     },
     "execution_count": 11,
     "metadata": {},
     "output_type": "execute_result"
    }
   ],
   "source": [
    "y"
   ]
  },
  {
   "cell_type": "markdown",
   "id": "34291bf6",
   "metadata": {},
   "source": [
    "# Feature Encoding"
   ]
  },
  {
   "cell_type": "code",
   "execution_count": 12,
   "id": "8da60566",
   "metadata": {},
   "outputs": [
    {
     "data": {
      "text/html": [
       "<style>#sk-container-id-1 {color: black;background-color: white;}#sk-container-id-1 pre{padding: 0;}#sk-container-id-1 div.sk-toggleable {background-color: white;}#sk-container-id-1 label.sk-toggleable__label {cursor: pointer;display: block;width: 100%;margin-bottom: 0;padding: 0.3em;box-sizing: border-box;text-align: center;}#sk-container-id-1 label.sk-toggleable__label-arrow:before {content: \"▸\";float: left;margin-right: 0.25em;color: #696969;}#sk-container-id-1 label.sk-toggleable__label-arrow:hover:before {color: black;}#sk-container-id-1 div.sk-estimator:hover label.sk-toggleable__label-arrow:before {color: black;}#sk-container-id-1 div.sk-toggleable__content {max-height: 0;max-width: 0;overflow: hidden;text-align: left;background-color: #f0f8ff;}#sk-container-id-1 div.sk-toggleable__content pre {margin: 0.2em;color: black;border-radius: 0.25em;background-color: #f0f8ff;}#sk-container-id-1 input.sk-toggleable__control:checked~div.sk-toggleable__content {max-height: 200px;max-width: 100%;overflow: auto;}#sk-container-id-1 input.sk-toggleable__control:checked~label.sk-toggleable__label-arrow:before {content: \"▾\";}#sk-container-id-1 div.sk-estimator input.sk-toggleable__control:checked~label.sk-toggleable__label {background-color: #d4ebff;}#sk-container-id-1 div.sk-label input.sk-toggleable__control:checked~label.sk-toggleable__label {background-color: #d4ebff;}#sk-container-id-1 input.sk-hidden--visually {border: 0;clip: rect(1px 1px 1px 1px);clip: rect(1px, 1px, 1px, 1px);height: 1px;margin: -1px;overflow: hidden;padding: 0;position: absolute;width: 1px;}#sk-container-id-1 div.sk-estimator {font-family: monospace;background-color: #f0f8ff;border: 1px dotted black;border-radius: 0.25em;box-sizing: border-box;margin-bottom: 0.5em;}#sk-container-id-1 div.sk-estimator:hover {background-color: #d4ebff;}#sk-container-id-1 div.sk-parallel-item::after {content: \"\";width: 100%;border-bottom: 1px solid gray;flex-grow: 1;}#sk-container-id-1 div.sk-label:hover label.sk-toggleable__label {background-color: #d4ebff;}#sk-container-id-1 div.sk-serial::before {content: \"\";position: absolute;border-left: 1px solid gray;box-sizing: border-box;top: 0;bottom: 0;left: 50%;z-index: 0;}#sk-container-id-1 div.sk-serial {display: flex;flex-direction: column;align-items: center;background-color: white;padding-right: 0.2em;padding-left: 0.2em;position: relative;}#sk-container-id-1 div.sk-item {position: relative;z-index: 1;}#sk-container-id-1 div.sk-parallel {display: flex;align-items: stretch;justify-content: center;background-color: white;position: relative;}#sk-container-id-1 div.sk-item::before, #sk-container-id-1 div.sk-parallel-item::before {content: \"\";position: absolute;border-left: 1px solid gray;box-sizing: border-box;top: 0;bottom: 0;left: 50%;z-index: -1;}#sk-container-id-1 div.sk-parallel-item {display: flex;flex-direction: column;z-index: 1;position: relative;background-color: white;}#sk-container-id-1 div.sk-parallel-item:first-child::after {align-self: flex-end;width: 50%;}#sk-container-id-1 div.sk-parallel-item:last-child::after {align-self: flex-start;width: 50%;}#sk-container-id-1 div.sk-parallel-item:only-child::after {width: 0;}#sk-container-id-1 div.sk-dashed-wrapped {border: 1px dashed gray;margin: 0 0.4em 0.5em 0.4em;box-sizing: border-box;padding-bottom: 0.4em;background-color: white;}#sk-container-id-1 div.sk-label label {font-family: monospace;font-weight: bold;display: inline-block;line-height: 1.2em;}#sk-container-id-1 div.sk-label-container {text-align: center;}#sk-container-id-1 div.sk-container {/* jupyter's `normalize.less` sets `[hidden] { display: none; }` but bootstrap.min.css set `[hidden] { display: none !important; }` so we also need the `!important` here to be able to override the default hidden behavior on the sphinx rendered scikit-learn.org. See: https://github.com/scikit-learn/scikit-learn/issues/21755 */display: inline-block !important;position: relative;}#sk-container-id-1 div.sk-text-repr-fallback {display: none;}</style><div id=\"sk-container-id-1\" class=\"sk-top-container\"><div class=\"sk-text-repr-fallback\"><pre>OrdinalEncoder()</pre><b>In a Jupyter environment, please rerun this cell to show the HTML representation or trust the notebook. <br />On GitHub, the HTML representation is unable to render, please try loading this page with nbviewer.org.</b></div><div class=\"sk-container\" hidden><div class=\"sk-item\"><div class=\"sk-estimator sk-toggleable\"><input class=\"sk-toggleable__control sk-hidden--visually\" id=\"sk-estimator-id-1\" type=\"checkbox\" checked><label for=\"sk-estimator-id-1\" class=\"sk-toggleable__label sk-toggleable__label-arrow\">OrdinalEncoder</label><div class=\"sk-toggleable__content\"><pre>OrdinalEncoder()</pre></div></div></div></div></div>"
      ],
      "text/plain": [
       "OrdinalEncoder()"
      ]
     },
     "execution_count": 12,
     "metadata": {},
     "output_type": "execute_result"
    }
   ],
   "source": [
    "encoder=OrdinalEncoder()\n",
    "x_encode=encoder.fit(x)\n",
    "x_encode"
   ]
  },
  {
   "cell_type": "code",
   "execution_count": 13,
   "id": "6f8b1b6c",
   "metadata": {},
   "outputs": [
    {
     "data": {
      "text/plain": [
       "['G:/ds project/files/train/model/x_encode.pkl']"
      ]
     },
     "execution_count": 13,
     "metadata": {},
     "output_type": "execute_result"
    }
   ],
   "source": [
    "jb.dump(x_encode,\"G:/ds project/files/train/model/x_encode.pkl\")"
   ]
  },
  {
   "cell_type": "code",
   "execution_count": 14,
   "id": "75faa70c",
   "metadata": {},
   "outputs": [
    {
     "data": {
      "text/html": [
       "<div>\n",
       "<style scoped>\n",
       "    .dataframe tbody tr th:only-of-type {\n",
       "        vertical-align: middle;\n",
       "    }\n",
       "\n",
       "    .dataframe tbody tr th {\n",
       "        vertical-align: top;\n",
       "    }\n",
       "\n",
       "    .dataframe thead th {\n",
       "        text-align: right;\n",
       "    }\n",
       "</style>\n",
       "<table border=\"1\" class=\"dataframe\">\n",
       "  <thead>\n",
       "    <tr style=\"text-align: right;\">\n",
       "      <th></th>\n",
       "      <th>id</th>\n",
       "      <th>title</th>\n",
       "      <th>author</th>\n",
       "      <th>text</th>\n",
       "    </tr>\n",
       "  </thead>\n",
       "  <tbody>\n",
       "    <tr>\n",
       "      <th>0</th>\n",
       "      <td>2673.0</td>\n",
       "      <td>4490.0</td>\n",
       "      <td>NaN</td>\n",
       "      <td>4944.0</td>\n",
       "    </tr>\n",
       "    <tr>\n",
       "      <th>1</th>\n",
       "      <td>10709.0</td>\n",
       "      <td>427.0</td>\n",
       "      <td>2142.0</td>\n",
       "      <td>12151.0</td>\n",
       "    </tr>\n",
       "    <tr>\n",
       "      <th>2</th>\n",
       "      <td>11640.0</td>\n",
       "      <td>10113.0</td>\n",
       "      <td>NaN</td>\n",
       "      <td>9313.0</td>\n",
       "    </tr>\n",
       "    <tr>\n",
       "      <th>3</th>\n",
       "      <td>3613.0</td>\n",
       "      <td>5984.0</td>\n",
       "      <td>3125.0</td>\n",
       "      <td>5727.0</td>\n",
       "    </tr>\n",
       "    <tr>\n",
       "      <th>4</th>\n",
       "      <td>340.0</td>\n",
       "      <td>2844.0</td>\n",
       "      <td>3262.0</td>\n",
       "      <td>3516.0</td>\n",
       "    </tr>\n",
       "    <tr>\n",
       "      <th>...</th>\n",
       "      <td>...</td>\n",
       "      <td>...</td>\n",
       "      <td>...</td>\n",
       "      <td>...</td>\n",
       "    </tr>\n",
       "    <tr>\n",
       "      <th>14554</th>\n",
       "      <td>5477.0</td>\n",
       "      <td>4487.0</td>\n",
       "      <td>3086.0</td>\n",
       "      <td>6724.0</td>\n",
       "    </tr>\n",
       "    <tr>\n",
       "      <th>14555</th>\n",
       "      <td>10786.0</td>\n",
       "      <td>10661.0</td>\n",
       "      <td>NaN</td>\n",
       "      <td>672.0</td>\n",
       "    </tr>\n",
       "    <tr>\n",
       "      <th>14556</th>\n",
       "      <td>12414.0</td>\n",
       "      <td>8799.0</td>\n",
       "      <td>114.0</td>\n",
       "      <td>13021.0</td>\n",
       "    </tr>\n",
       "    <tr>\n",
       "      <th>14557</th>\n",
       "      <td>11018.0</td>\n",
       "      <td>11131.0</td>\n",
       "      <td>110.0</td>\n",
       "      <td>4661.0</td>\n",
       "    </tr>\n",
       "    <tr>\n",
       "      <th>14558</th>\n",
       "      <td>13981.0</td>\n",
       "      <td>11027.0</td>\n",
       "      <td>806.0</td>\n",
       "      <td>10863.0</td>\n",
       "    </tr>\n",
       "  </tbody>\n",
       "</table>\n",
       "<p>14559 rows × 4 columns</p>\n",
       "</div>"
      ],
      "text/plain": [
       "            id    title  author     text\n",
       "0       2673.0   4490.0     NaN   4944.0\n",
       "1      10709.0    427.0  2142.0  12151.0\n",
       "2      11640.0  10113.0     NaN   9313.0\n",
       "3       3613.0   5984.0  3125.0   5727.0\n",
       "4        340.0   2844.0  3262.0   3516.0\n",
       "...        ...      ...     ...      ...\n",
       "14554   5477.0   4487.0  3086.0   6724.0\n",
       "14555  10786.0  10661.0     NaN    672.0\n",
       "14556  12414.0   8799.0   114.0  13021.0\n",
       "14557  11018.0  11131.0   110.0   4661.0\n",
       "14558  13981.0  11027.0   806.0  10863.0\n",
       "\n",
       "[14559 rows x 4 columns]"
      ]
     },
     "execution_count": 14,
     "metadata": {},
     "output_type": "execute_result"
    }
   ],
   "source": [
    "x_encode=encoder.transform(x)\n",
    "x_encode_df=pd.DataFrame(x_encode,columns=x.columns)\n",
    "x_encode_df"
   ]
  },
  {
   "cell_type": "code",
   "execution_count": 15,
   "id": "695570ec",
   "metadata": {},
   "outputs": [],
   "source": [
    "x_encode_df.to_csv(\"G:/ds project/files/train/processed/x_encode_df.csv\")\n"
   ]
  },
  {
   "cell_type": "markdown",
   "id": "a87deccf",
   "metadata": {},
   "source": [
    "# Imputation to replace null and nan "
   ]
  },
  {
   "cell_type": "code",
   "execution_count": 16,
   "id": "dca09869",
   "metadata": {
    "scrolled": true
   },
   "outputs": [
    {
     "data": {
      "text/html": [
       "<style>#sk-container-id-2 {color: black;background-color: white;}#sk-container-id-2 pre{padding: 0;}#sk-container-id-2 div.sk-toggleable {background-color: white;}#sk-container-id-2 label.sk-toggleable__label {cursor: pointer;display: block;width: 100%;margin-bottom: 0;padding: 0.3em;box-sizing: border-box;text-align: center;}#sk-container-id-2 label.sk-toggleable__label-arrow:before {content: \"▸\";float: left;margin-right: 0.25em;color: #696969;}#sk-container-id-2 label.sk-toggleable__label-arrow:hover:before {color: black;}#sk-container-id-2 div.sk-estimator:hover label.sk-toggleable__label-arrow:before {color: black;}#sk-container-id-2 div.sk-toggleable__content {max-height: 0;max-width: 0;overflow: hidden;text-align: left;background-color: #f0f8ff;}#sk-container-id-2 div.sk-toggleable__content pre {margin: 0.2em;color: black;border-radius: 0.25em;background-color: #f0f8ff;}#sk-container-id-2 input.sk-toggleable__control:checked~div.sk-toggleable__content {max-height: 200px;max-width: 100%;overflow: auto;}#sk-container-id-2 input.sk-toggleable__control:checked~label.sk-toggleable__label-arrow:before {content: \"▾\";}#sk-container-id-2 div.sk-estimator input.sk-toggleable__control:checked~label.sk-toggleable__label {background-color: #d4ebff;}#sk-container-id-2 div.sk-label input.sk-toggleable__control:checked~label.sk-toggleable__label {background-color: #d4ebff;}#sk-container-id-2 input.sk-hidden--visually {border: 0;clip: rect(1px 1px 1px 1px);clip: rect(1px, 1px, 1px, 1px);height: 1px;margin: -1px;overflow: hidden;padding: 0;position: absolute;width: 1px;}#sk-container-id-2 div.sk-estimator {font-family: monospace;background-color: #f0f8ff;border: 1px dotted black;border-radius: 0.25em;box-sizing: border-box;margin-bottom: 0.5em;}#sk-container-id-2 div.sk-estimator:hover {background-color: #d4ebff;}#sk-container-id-2 div.sk-parallel-item::after {content: \"\";width: 100%;border-bottom: 1px solid gray;flex-grow: 1;}#sk-container-id-2 div.sk-label:hover label.sk-toggleable__label {background-color: #d4ebff;}#sk-container-id-2 div.sk-serial::before {content: \"\";position: absolute;border-left: 1px solid gray;box-sizing: border-box;top: 0;bottom: 0;left: 50%;z-index: 0;}#sk-container-id-2 div.sk-serial {display: flex;flex-direction: column;align-items: center;background-color: white;padding-right: 0.2em;padding-left: 0.2em;position: relative;}#sk-container-id-2 div.sk-item {position: relative;z-index: 1;}#sk-container-id-2 div.sk-parallel {display: flex;align-items: stretch;justify-content: center;background-color: white;position: relative;}#sk-container-id-2 div.sk-item::before, #sk-container-id-2 div.sk-parallel-item::before {content: \"\";position: absolute;border-left: 1px solid gray;box-sizing: border-box;top: 0;bottom: 0;left: 50%;z-index: -1;}#sk-container-id-2 div.sk-parallel-item {display: flex;flex-direction: column;z-index: 1;position: relative;background-color: white;}#sk-container-id-2 div.sk-parallel-item:first-child::after {align-self: flex-end;width: 50%;}#sk-container-id-2 div.sk-parallel-item:last-child::after {align-self: flex-start;width: 50%;}#sk-container-id-2 div.sk-parallel-item:only-child::after {width: 0;}#sk-container-id-2 div.sk-dashed-wrapped {border: 1px dashed gray;margin: 0 0.4em 0.5em 0.4em;box-sizing: border-box;padding-bottom: 0.4em;background-color: white;}#sk-container-id-2 div.sk-label label {font-family: monospace;font-weight: bold;display: inline-block;line-height: 1.2em;}#sk-container-id-2 div.sk-label-container {text-align: center;}#sk-container-id-2 div.sk-container {/* jupyter's `normalize.less` sets `[hidden] { display: none; }` but bootstrap.min.css set `[hidden] { display: none !important; }` so we also need the `!important` here to be able to override the default hidden behavior on the sphinx rendered scikit-learn.org. See: https://github.com/scikit-learn/scikit-learn/issues/21755 */display: inline-block !important;position: relative;}#sk-container-id-2 div.sk-text-repr-fallback {display: none;}</style><div id=\"sk-container-id-2\" class=\"sk-top-container\"><div class=\"sk-text-repr-fallback\"><pre>KNNImputer()</pre><b>In a Jupyter environment, please rerun this cell to show the HTML representation or trust the notebook. <br />On GitHub, the HTML representation is unable to render, please try loading this page with nbviewer.org.</b></div><div class=\"sk-container\" hidden><div class=\"sk-item\"><div class=\"sk-estimator sk-toggleable\"><input class=\"sk-toggleable__control sk-hidden--visually\" id=\"sk-estimator-id-2\" type=\"checkbox\" checked><label for=\"sk-estimator-id-2\" class=\"sk-toggleable__label sk-toggleable__label-arrow\">KNNImputer</label><div class=\"sk-toggleable__content\"><pre>KNNImputer()</pre></div></div></div></div></div>"
      ],
      "text/plain": [
       "KNNImputer()"
      ]
     },
     "execution_count": 16,
     "metadata": {},
     "output_type": "execute_result"
    }
   ],
   "source": [
    "#replace  null \n",
    "imputer=KNNImputer()\n",
    "x_impute=imputer.fit(x_encode_df)\n",
    "x_impute"
   ]
  },
  {
   "cell_type": "code",
   "execution_count": 17,
   "id": "476eef0d",
   "metadata": {},
   "outputs": [
    {
     "data": {
      "text/plain": [
       "['G:/ds project/files/train/model/x_impute.pkl']"
      ]
     },
     "execution_count": 17,
     "metadata": {},
     "output_type": "execute_result"
    }
   ],
   "source": [
    "jb.dump(x_impute,\"G:/ds project/files/train/model/x_impute.pkl\")"
   ]
  },
  {
   "cell_type": "code",
   "execution_count": 18,
   "id": "bbba0719",
   "metadata": {},
   "outputs": [
    {
     "data": {
      "text/html": [
       "<div>\n",
       "<style scoped>\n",
       "    .dataframe tbody tr th:only-of-type {\n",
       "        vertical-align: middle;\n",
       "    }\n",
       "\n",
       "    .dataframe tbody tr th {\n",
       "        vertical-align: top;\n",
       "    }\n",
       "\n",
       "    .dataframe thead th {\n",
       "        text-align: right;\n",
       "    }\n",
       "</style>\n",
       "<table border=\"1\" class=\"dataframe\">\n",
       "  <thead>\n",
       "    <tr style=\"text-align: right;\">\n",
       "      <th></th>\n",
       "      <th>id</th>\n",
       "      <th>title</th>\n",
       "      <th>author</th>\n",
       "      <th>text</th>\n",
       "    </tr>\n",
       "  </thead>\n",
       "  <tbody>\n",
       "    <tr>\n",
       "      <th>0</th>\n",
       "      <td>2673.0</td>\n",
       "      <td>4490.0</td>\n",
       "      <td>1796.4</td>\n",
       "      <td>4944.0</td>\n",
       "    </tr>\n",
       "    <tr>\n",
       "      <th>1</th>\n",
       "      <td>10709.0</td>\n",
       "      <td>427.0</td>\n",
       "      <td>2142.0</td>\n",
       "      <td>12151.0</td>\n",
       "    </tr>\n",
       "    <tr>\n",
       "      <th>2</th>\n",
       "      <td>11640.0</td>\n",
       "      <td>10113.0</td>\n",
       "      <td>1464.6</td>\n",
       "      <td>9313.0</td>\n",
       "    </tr>\n",
       "    <tr>\n",
       "      <th>3</th>\n",
       "      <td>3613.0</td>\n",
       "      <td>5984.0</td>\n",
       "      <td>3125.0</td>\n",
       "      <td>5727.0</td>\n",
       "    </tr>\n",
       "    <tr>\n",
       "      <th>4</th>\n",
       "      <td>340.0</td>\n",
       "      <td>2844.0</td>\n",
       "      <td>3262.0</td>\n",
       "      <td>3516.0</td>\n",
       "    </tr>\n",
       "    <tr>\n",
       "      <th>...</th>\n",
       "      <td>...</td>\n",
       "      <td>...</td>\n",
       "      <td>...</td>\n",
       "      <td>...</td>\n",
       "    </tr>\n",
       "    <tr>\n",
       "      <th>14554</th>\n",
       "      <td>5477.0</td>\n",
       "      <td>4487.0</td>\n",
       "      <td>3086.0</td>\n",
       "      <td>6724.0</td>\n",
       "    </tr>\n",
       "    <tr>\n",
       "      <th>14555</th>\n",
       "      <td>10786.0</td>\n",
       "      <td>10661.0</td>\n",
       "      <td>2217.6</td>\n",
       "      <td>672.0</td>\n",
       "    </tr>\n",
       "    <tr>\n",
       "      <th>14556</th>\n",
       "      <td>12414.0</td>\n",
       "      <td>8799.0</td>\n",
       "      <td>114.0</td>\n",
       "      <td>13021.0</td>\n",
       "    </tr>\n",
       "    <tr>\n",
       "      <th>14557</th>\n",
       "      <td>11018.0</td>\n",
       "      <td>11131.0</td>\n",
       "      <td>110.0</td>\n",
       "      <td>4661.0</td>\n",
       "    </tr>\n",
       "    <tr>\n",
       "      <th>14558</th>\n",
       "      <td>13981.0</td>\n",
       "      <td>11027.0</td>\n",
       "      <td>806.0</td>\n",
       "      <td>10863.0</td>\n",
       "    </tr>\n",
       "  </tbody>\n",
       "</table>\n",
       "<p>14559 rows × 4 columns</p>\n",
       "</div>"
      ],
      "text/plain": [
       "            id    title  author     text\n",
       "0       2673.0   4490.0  1796.4   4944.0\n",
       "1      10709.0    427.0  2142.0  12151.0\n",
       "2      11640.0  10113.0  1464.6   9313.0\n",
       "3       3613.0   5984.0  3125.0   5727.0\n",
       "4        340.0   2844.0  3262.0   3516.0\n",
       "...        ...      ...     ...      ...\n",
       "14554   5477.0   4487.0  3086.0   6724.0\n",
       "14555  10786.0  10661.0  2217.6    672.0\n",
       "14556  12414.0   8799.0   114.0  13021.0\n",
       "14557  11018.0  11131.0   110.0   4661.0\n",
       "14558  13981.0  11027.0   806.0  10863.0\n",
       "\n",
       "[14559 rows x 4 columns]"
      ]
     },
     "execution_count": 18,
     "metadata": {},
     "output_type": "execute_result"
    }
   ],
   "source": [
    "x_impute=imputer.transform(x_encode_df)\n",
    "x_impute_columns=imputer.get_feature_names_out()\n",
    "x_impute=pd.DataFrame(x_impute)\n",
    "x_impute.columns=x_impute_columns\n",
    "X=x_impute\n",
    "X"
   ]
  },
  {
   "cell_type": "code",
   "execution_count": 19,
   "id": "7ba89cae",
   "metadata": {},
   "outputs": [],
   "source": [
    "X.to_csv(\"G:/ds project/files/train/processed/X.csv\")"
   ]
  },
  {
   "cell_type": "code",
   "execution_count": 20,
   "id": "77d0b119",
   "metadata": {},
   "outputs": [
    {
     "data": {
      "text/plain": [
       "id        0\n",
       "title     0\n",
       "author    0\n",
       "text      0\n",
       "dtype: int64"
      ]
     },
     "execution_count": 20,
     "metadata": {},
     "output_type": "execute_result"
    }
   ],
   "source": [
    "x_impute.isnull().sum()"
   ]
  },
  {
   "cell_type": "code",
   "execution_count": 21,
   "id": "fae35831",
   "metadata": {},
   "outputs": [
    {
     "data": {
      "text/plain": [
       "<AxesSubplot: >"
      ]
     },
     "execution_count": 21,
     "metadata": {},
     "output_type": "execute_result"
    },
    {
     "data": {
      "image/png": "[encoded data removed]",
      "text/plain": [
       "<Figure size 800x500 with 2 Axes>"
      ]
     },
     "metadata": {},
     "output_type": "display_data"
    }
   ],
   "source": [
    "plt.figure(figsize=(8,5))\n",
    "sns.heatmap(X.corr(),annot=True)"
   ]
  },
  {
   "cell_type": "markdown",
   "id": "8d0fda2d",
   "metadata": {},
   "source": [
    "# Outliers detection "
   ]
  },
  {
   "cell_type": "code",
   "execution_count": 22,
   "id": "5f674f9f",
   "metadata": {},
   "outputs": [
    {
     "data": {
      "text/plain": [
       "<AxesSubplot: >"
      ]
     },
     "execution_count": 22,
     "metadata": {},
     "output_type": "execute_result"
    },
    {
     "data": {
      "image/png": "[encoded data removed]",
      "text/plain": [
       "<Figure size 640x480 with 1 Axes>"
      ]
     },
     "metadata": {},
     "output_type": "display_data"
    }
   ],
   "source": [
    "sns.boxplot(X)"
   ]
  },
  {
   "cell_type": "code",
   "execution_count": 23,
   "id": "123dd693",
   "metadata": {},
   "outputs": [
    {
     "data": {
      "text/plain": [
       "<AxesSubplot: >"
      ]
     },
     "execution_count": 23,
     "metadata": {},
     "output_type": "execute_result"
    },
    {
     "data": {
      "image/png": "[encoded data removed]",
      "text/plain": [
       "<Figure size 640x480 with 1 Axes>"
      ]
     },
     "metadata": {},
     "output_type": "display_data"
    }
   ],
   "source": [
    "\n",
    "sns.boxplot(y)"
   ]
  },
  {
   "cell_type": "markdown",
   "id": "070bd6d1",
   "metadata": {},
   "source": [
    "    There is no outliers in this data frame , "
   ]
  },
  {
   "cell_type": "markdown",
   "id": "812db1e7",
   "metadata": {},
   "source": [
    " # Split=train_test_split"
   ]
  },
  {
   "cell_type": "code",
   "execution_count": 24,
   "id": "2248443c",
   "metadata": {},
   "outputs": [],
   "source": [
    "X_train,X_test,y_train,y_test= train_test_split(X,y, train_size=0.7,random_state=123)"
   ]
  },
  {
   "cell_type": "code",
   "execution_count": 25,
   "id": "9e881a38",
   "metadata": {},
   "outputs": [],
   "source": [
    "X_train.to_csv('G:/ds project/files/train/raw/x_train.csv',index=False)\n",
    "y_train.to_csv('G:/ds project/files/train/raw/y_train.csv',index=False)\n",
    "\n",
    "X_test.to_csv('G:/ds project/files/evoluate/x_test.csv',index=False)\n",
    "y_test.to_csv('G:/ds project/files/evoluate/y_test.csv',index=False)"
   ]
  },
  {
   "cell_type": "markdown",
   "id": "b538ed9d",
   "metadata": {},
   "source": [
    "# Model train"
   ]
  },
  {
   "cell_type": "code",
   "execution_count": 26,
   "id": "a1f1d10a",
   "metadata": {},
   "outputs": [
    {
     "name": "stdout",
     "output_type": "stream",
     "text": [
      "Train score: 96.79128642920224\n"
     ]
    }
   ],
   "source": [
    "model = xgb.XGBClassifier()\n",
    "model.fit(X_train, y_train)\n",
    "print('Train score:',model.score(X_train,y_train)* 100)\n"
   ]
  },
  {
   "cell_type": "code",
   "execution_count": 27,
   "id": "d707cbbc",
   "metadata": {},
   "outputs": [
    {
     "data": {
      "text/plain": [
       "['G:/ds project/files/train/model/model.pkl']"
      ]
     },
     "execution_count": 27,
     "metadata": {},
     "output_type": "execute_result"
    }
   ],
   "source": [
    "jb.dump(model,\"G:/ds project/files/train/model/model.pkl\")"
   ]
  },
  {
   "cell_type": "code",
   "execution_count": 28,
   "id": "4ffd38bf",
   "metadata": {},
   "outputs": [],
   "source": [
    "model=jb.load(\"G:/ds project/files/train/model/model.pkl\")\n",
    "impute_model=jb.load(\"G:/ds project/files/train/model/x_impute.pkl\")\n",
    "encode_model=jb.load(\"G:/ds project/files/train/model/x_encode.pkl\")"
   ]
  },
  {
   "cell_type": "code",
   "execution_count": 29,
   "id": "a9721715",
   "metadata": {},
   "outputs": [
    {
     "data": {
      "text/html": [
       "<div>\n",
       "<style scoped>\n",
       "    .dataframe tbody tr th:only-of-type {\n",
       "        vertical-align: middle;\n",
       "    }\n",
       "\n",
       "    .dataframe tbody tr th {\n",
       "        vertical-align: top;\n",
       "    }\n",
       "\n",
       "    .dataframe thead th {\n",
       "        text-align: right;\n",
       "    }\n",
       "</style>\n",
       "<table border=\"1\" class=\"dataframe\">\n",
       "  <thead>\n",
       "    <tr style=\"text-align: right;\">\n",
       "      <th></th>\n",
       "      <th>0</th>\n",
       "    </tr>\n",
       "  </thead>\n",
       "  <tbody>\n",
       "    <tr>\n",
       "      <th>0</th>\n",
       "      <td>1</td>\n",
       "    </tr>\n",
       "    <tr>\n",
       "      <th>1</th>\n",
       "      <td>0</td>\n",
       "    </tr>\n",
       "    <tr>\n",
       "      <th>2</th>\n",
       "      <td>1</td>\n",
       "    </tr>\n",
       "    <tr>\n",
       "      <th>3</th>\n",
       "      <td>1</td>\n",
       "    </tr>\n",
       "    <tr>\n",
       "      <th>4</th>\n",
       "      <td>1</td>\n",
       "    </tr>\n",
       "    <tr>\n",
       "      <th>...</th>\n",
       "      <td>...</td>\n",
       "    </tr>\n",
       "    <tr>\n",
       "      <th>4363</th>\n",
       "      <td>1</td>\n",
       "    </tr>\n",
       "    <tr>\n",
       "      <th>4364</th>\n",
       "      <td>1</td>\n",
       "    </tr>\n",
       "    <tr>\n",
       "      <th>4365</th>\n",
       "      <td>0</td>\n",
       "    </tr>\n",
       "    <tr>\n",
       "      <th>4366</th>\n",
       "      <td>1</td>\n",
       "    </tr>\n",
       "    <tr>\n",
       "      <th>4367</th>\n",
       "      <td>1</td>\n",
       "    </tr>\n",
       "  </tbody>\n",
       "</table>\n",
       "<p>4368 rows × 1 columns</p>\n",
       "</div>"
      ],
      "text/plain": [
       "      0\n",
       "0     1\n",
       "1     0\n",
       "2     1\n",
       "3     1\n",
       "4     1\n",
       "...  ..\n",
       "4363  1\n",
       "4364  1\n",
       "4365  0\n",
       "4366  1\n",
       "4367  1\n",
       "\n",
       "[4368 rows x 1 columns]"
      ]
     },
     "execution_count": 29,
     "metadata": {},
     "output_type": "execute_result"
    }
   ],
   "source": [
    "y_pred=pd.DataFrame(model.predict(X_test))\n",
    "y_pred"
   ]
  },
  {
   "cell_type": "code",
   "execution_count": 30,
   "id": "344b767c",
   "metadata": {},
   "outputs": [
    {
     "name": "stdout",
     "output_type": "stream",
     "text": [
      "Test score: 90.59065934065934\n"
     ]
    }
   ],
   "source": [
    "print('Test score:',model.score(X_test,y_test)* 100)"
   ]
  },
  {
   "cell_type": "code",
   "execution_count": 31,
   "id": "c3add41d",
   "metadata": {},
   "outputs": [
    {
     "name": "stdout",
     "output_type": "stream",
     "text": [
      "              precision    recall  f1-score   support\n",
      "\n",
      "           0       0.91      0.90      0.91      2199\n",
      "           1       0.90      0.91      0.91      2169\n",
      "\n",
      "    accuracy                           0.91      4368\n",
      "   macro avg       0.91      0.91      0.91      4368\n",
      "weighted avg       0.91      0.91      0.91      4368\n",
      "\n"
     ]
    }
   ],
   "source": [
    "print(classification_report(y_pred,y_test))\n",
    "cm=confusion_matrix(y_pred,y_test)"
   ]
  },
  {
   "cell_type": "code",
   "execution_count": 32,
   "id": "608d4bcc",
   "metadata": {},
   "outputs": [
    {
     "data": {
      "text/plain": [
       "<sklearn.metrics._plot.confusion_matrix.ConfusionMatrixDisplay at 0x17d2e0f7610>"
      ]
     },
     "execution_count": 32,
     "metadata": {},
     "output_type": "execute_result"
    },
    {
     "data": {
      "image/png": "[encoded data removed]",
      "text/plain": [
       "<Figure size 640x480 with 2 Axes>"
      ]
     },
     "metadata": {},
     "output_type": "display_data"
    }
   ],
   "source": [
    "disp = ConfusionMatrixDisplay(confusion_matrix=cm)\n",
    "disp.plot()"
   ]
  },
  {
   "cell_type": "code",
   "execution_count": null,
   "id": "5cb81643",
   "metadata": {},
   "outputs": [],
   "source": []
  }
 ],
 "metadata": {
  "kernelspec": {
   "display_name": "Python 3 (ipykernel)",
   "language": "python",
   "name": "python3"
  },
  "language_info": {
   "codemirror_mode": {
    "name": "ipython",
    "version": 3
   },
   "file_extension": ".py",
   "mimetype": "text/x-python",
   "name": "python",
   "nbconvert_exporter": "python",
   "pygments_lexer": "ipython3",
   "version": "3.10.8"
  }
 },
 "nbformat": 4,
 "nbformat_minor": 5
}
